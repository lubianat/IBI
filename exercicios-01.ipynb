{
 "cells": [
  {
   "cell_type": "markdown",
   "metadata": {},
   "source": [
    "# Lista de exercício 1"
   ]
  },
  {
   "cell_type": "markdown",
   "metadata": {},
   "source": [
    "Nome: Tiago Lubiana Alves"
   ]
  },
  {
   "cell_type": "markdown",
   "metadata": {},
   "source": [
    "NUSP: 8945857"
   ]
  },
  {
   "cell_type": "markdown",
   "metadata": {},
   "source": [
    "A lista de exercícios é composta por exercícios nesse jupyter notebook e em exercícios de implementação de código Python 3 na pasta ml. As instruções são apresentadas em cada exercício e pode ocorrer dependência entre os exercícios.\n",
    "\n",
    "A pasta **ml** é um pacote Python3 que fornece a funcionalidade de plotar regiões de decisão e a estrutura de módulos e classes bases a serem utilizadas nos exercícios. Ela contém o modulo **mlplot** que fornece a funcionalidade **plot_decision_regions** (retirada do livro texto). O pacote **ml** também possui o subpacote **linearclassifier** que por sua vez contém o módulo **classifier** que fornece a classe base **LinearClassifier**.\n",
    "\n",
    "O módulo **ml.linearclassifier.classifier** contém as funções:\n",
    "\n",
    "* **_default_init_weights**: função padrão de inicialização de pesos dos classificadores lineares vistos em aula.\n",
    "* **_default_should_stop**: função padrão que decide o critério de parada dos classificadores lineares vistos em aula.\n",
    "\n",
    "A classe **ml.linearclassifier.classifier.LinearClassifier** possui os seguintes atributos:\n",
    "\n",
    "* **_eta**: coeficiente de aprendizagem ($\\eta$).\n",
    "* **_w**: Vetor de pesos obtido após a chamada do método **fit**.\n",
    "* **_b**: Bias obtido após a chamada do método **fit**.\n",
    "* **_init_weights**: Função que recebe o classificador e a quantidade de amostras de treinamento e devolve um vetor inicial de pesos. \n",
    "* **_should_stop**: Função que recebe o classificador e o epoch atual e decide se o método fit deve parar ou não.\n",
    "* **_pvalue**: Valor da classe positiva.\n",
    "* **_nvalue**: Valor da classe negativa.\n",
    "* **_epoch**: Valor atual de epoch, indica quantas iterações de treinamento foram executadas.\n",
    "\n",
    "E as seguintes funções:\n",
    "\n",
    "* **net_input**: Devolve a computação $\\vec{w_{\\phantom{2}}}^{t}\\cdot\\vec{x_{\\phantom{2}}} + b$.\n",
    "* **predict**: Prediz a classe da entrada $X$ devolvendo **_pvalue** se **net_input**($X$) $\\geq$ 0; e **_nvalue** caso contrário.\n",
    "* **fit**: Método abstrato que deve ser implementado pelas subclasses.\n",
    "* **weights**: Devolve **_w** atual.\n",
    "* **bias**: Devolve **_b** atual.\n",
    "* **nepochs**: Devolve **_nepoch** atual."
   ]
  },
  {
   "cell_type": "markdown",
   "metadata": {},
   "source": [
    "## Exercícios"
   ]
  },
  {
   "cell_type": "markdown",
   "metadata": {},
   "source": [
    "Os exercícios de 1 a 7 utilizam o seguinte diagrama de classes. Onde os métodos em negrito indicam métodos abstratos. Note que você não precisa seguir o diagrama de classes em todos os detalhes, você poderá adicionar outros métodos que considere útil para o desenvolvimento do exercício.\n",
    "\n",
    "![Diagrama de classes](./img/dc.png)"
   ]
  },
  {
   "cell_type": "markdown",
   "metadata": {},
   "source": [
    "1) Utilizando a estrutura apresentada no diagrama de classes. Dentro do arquivo \"ml/linearclassifier/batch.py\". Implemente o método \"fit\" da classe abstrata **BatchLinearClassifier** que treina um classificador linear utilizando um método em batch usando a função abstrata **compute_update** que recebe o conjunto de treinamento $X$ e rótulos $y$ e devolve um $\\Delta w$ e $\\Delta b$ utilizados para atualizar os pesos e bias em cada epoch."
   ]
  },
  {
   "cell_type": "markdown",
   "metadata": {},
   "source": [
    "from abc import ABC, abstractmethod\n",
    "import numpy as np\n",
    "\n",
    "import ml.linearclassifier.classifier as lc\n",
    "\n",
    "\n",
    "class BatchLinearClassifier(lc.LinearClassifier):\n",
    "\tdef __init__(self, eta,\tinit_weights, should_stop, pvalue=1.0, nvalue=-1.0):\n",
    "\t\tsuper().__init__(eta, init_weights, should_stop, pvalue, nvalue)\n",
    "\n",
    "\t@abstractmethod\n",
    "\tdef compute_update(self, X, y):\n",
    "\t\tpass\n",
    "\n",
    "\tdef fit(self, X, y):\n",
    "        weigths <- init_weights\n",
    "\t\tfor i in epoch:\n",
    "\t\t\tw, b <- compute_update(X)\n",
    "            weights <- init_weigths \n",
    "            \n",
    "            return self\n",
    "\n",
    "\n",
    "class BatchPerceptron(BatchLinearClassifier):\n",
    "\tdef compute_update(self, X, y):\n",
    "\t\t# TODO: Implemente \n",
    "\t\treturn None\n",
    "\n",
    "\n",
    "class BatchAdalineGD(BatchLinearClassifier):\n",
    "\t\n",
    "\tdef compute_update(self, X, y):\n",
    "\t\t# TODO: Implemente\n",
    "\t\treturn None\n",
    "\n",
    "class BatchLogisticRegression(BatchLinearClassifier):\n",
    "\tdef compute_update(self, X, y):\n",
    "\t\t# TODO: Implemente\n",
    "\t\treturn None"
   ]
  },
  {
   "cell_type": "markdown",
   "metadata": {},
   "source": [
    "2) Utilizando a estrutura apresentada no diagrama de classes. Dentro do arquivo \"ml/linearclassifier/batch.py\". Implemente a subclasse **BatchAdalineGD** da classe **BatchLinearClassifier**. Nessa classe você deve implementar a função que computa a atualização de pesos ($\\Delta b, \\Delta \\vec{w_{\\phantom{2}}}$) **compute_update** em batch utilizando a função de custo $J_2$ vista em aula: \n",
    "\n",
    "$$ J_2(\\vec{w_{\\phantom{2}}},b) = \\frac{1}{2} \\sum_{i=1}^n \\left [ y_i - (\\vec{w_{\\phantom{2}}}^t . \\vec{x_i} + b) \\right ]^2 $$"
   ]
  },
  {
   "cell_type": "markdown",
   "metadata": {},
   "source": [
    "3) Utilizando a estrutura apresentada no diagrama de classes. Dentro do arquivo \"ml/linearclassifier/batch.py\". Implemente a subclasse **BatchLinearRegression** da classe **BatchLinearClassifier**. Nessa classe você deve implementar a função que computa a atualização de pesos $(\\Delta b, \\Delta \\vec{w_{\\phantom{2}}})$ **compute_update** em batch utilizando a função de custo $J_3$ vista em aula. Além disso você terá que modificar os rótulos $y_i \\in \\{-1, 1\\}$ para $y_i \\in \\{0,1\\}$.\n",
    "\n",
    "$$\n",
    "\\begin{align}\n",
    "z =& \\vec{w_{\\phantom{2}}}^t \\cdot \\vec{x_{\\phantom{2}}} + b = w_1 x_1 + w_2 x_2 \\dots w_n x_n + b \\\\\n",
    "\\phi(z) =& \\frac{1}{1 + e^{-z}} \\\\\n",
    "J_3(\\vec{w_{\\phantom{2}}}, b) =& -\\sum_{i=1}^n\\left[  y_i \\log(\\phi(z_i)) + (1 - y_i)\\log(1-\\phi(z_i)) \\right]\n",
    "\\end{align}\n",
    "$$"
   ]
  },
  {
   "cell_type": "markdown",
   "metadata": {},
   "source": [
    "4) Utilizando a estrutura apresentada no diagrama de classes. Dentro do arquivo \"ml/linearclassifier/stochastic.py\". Implemente os método \"fit\"  e \"partial_fit\" da classe abstrata **StochasticLinearClassifier** que treina um classificador linear utilizando o método estocástico usando a função abstrata **compute_update** que recebe uma amostra $x_i$ com o seu rótulo $y_i$ e devolve um $\\Delta w$ e $\\Delta b$ utilizados para atualizar os pesos e bias em cada epoch."
   ]
  },
  {
   "cell_type": "markdown",
   "metadata": {},
   "source": [
    "5) Utilizando a estrutura apresentada no diagrama de classes. Dentro do arquivo \"ml/linearclassifier/stochastic.py\". Implemente a subclasse **StochasticPerceptron** da classe **StochasticLinearClassifier**. Nessa classe você deve implementar a função de que computa a atualização de pesos $(\\Delta b, \\Delta \\vec{w_{\\phantom{2}}})$ **compute_update** pelo método estocástico utilizando a função de custo $J_1$ visto em aula: \n",
    "\n",
    "$$ J_1(\\vec{w_{\\phantom{2}}},b) = \\sum_{i=1}^n \\max \\{-(\\vec{w_{\\phantom{2}}}^t . \\vec{x_i}y_i + b), 0\\} $$"
   ]
  },
  {
   "cell_type": "markdown",
   "metadata": {},
   "source": [
    "6) Utilizando a estrutura apresentada no diagrama de classes. Dentro do arquivo \"ml/linearclassifier/stochastic.py\". Implemente a subclasse **StochasticAdalineGD** da classe **StochasticLinearClassifier**. Nessa classe você deve implementar a função que computa a atualização de pesos ($\\Delta b, \\Delta \\vec{w_{\\phantom{2}}}$) **compute_update** pelo método estocástico utilizando a função de custo $J_2$ vista em aula: \n",
    "\n",
    "$$ J_2(\\vec{w_{\\phantom{2}}},b) = \\frac{1}{2} \\sum_{i=1}^n \\left [ y_i - (\\vec{w}^t . \\vec{x_i} + b) \\right ]^2 $$"
   ]
  },
  {
   "cell_type": "markdown",
   "metadata": {},
   "source": [
    "7) Utilizando a estrutura apresentada no diagrama de classes. Dentro do arquivo \"ml/linearclassifier/stochastic.py\". Implemente a subclasse **StochasticLinearRegression** da classe **StochasticLinearClassifier**. Nessa classe você deve implementar a função que computa a atualização de pesos $(\\Delta b, \\Delta \\vec{w_{\\phantom{2}}})$ **compute_update**  pelo método estocástico utilizando a função de custo $J_3$ vista em aula. Além disso você terá que modificar os rótulos $y_i \\in \\{-1, 1\\}$ para $y_i \\in \\{0,1\\}$.\n",
    "\n",
    "$$\n",
    "\\begin{align}\n",
    "z =& \\vec{w}^t . \\vec{x} + b = w_1 x_1 + w_2 x_2 \\dots w_n x_n + b \\\\\n",
    "\\phi(z) =& \\frac{1}{1 + e^{-z}} \\\\\n",
    "J_3(\\vec{w}, b) =& -\\sum_{i=1}^n\\left[  y_i \\log(\\phi(z_i)) + (1 - y_i)\\log(1-\\phi(z_i)) \\right]\n",
    "\\end{align}\n",
    "$$"
   ]
  },
  {
   "cell_type": "markdown",
   "metadata": {},
   "source": [
    "8) A pasta \"./dataset\" possui dois arquivos csv: \"dataset-1.data\" e \"dataset-2.data\". Cada arquivo contém três colunas separadas por \";\" (ponto e vírgula), onde as duas primeiras colunas são valores reais representando duas caracteristicas/atributos (*features*) e a terceira coluna é um rótulo (classe) e cada linha é uma amostra. Plote esses dados utilizando marcadores diferentes para cada rótulo e diga intuitivamente qual dos arquivos é linearmente separável e qual não é."
   ]
  },
  {
   "cell_type": "code",
   "execution_count": null,
   "metadata": {},
   "outputs": [],
   "source": [
    " "
   ]
  },
  {
   "cell_type": "markdown",
   "metadata": {},
   "source": [
    "9) Utilizando o teorema de convergência do Perceptron e de sua implementação de classificadores lineares, mostre que o *dataset* indicado como *linearmente separável* é realmente linearmente separável. Apresente a reta que separe os dados e número de iterações necessárias até a convergência."
   ]
  },
  {
   "cell_type": "code",
   "execution_count": null,
   "metadata": {},
   "outputs": [],
   "source": [
    " "
   ]
  },
  {
   "cell_type": "markdown",
   "metadata": {},
   "source": [
    "10) Implemente o classificador linear multiclasse Um-Contra-Todos (*One-versus-All* - OvA) na classe **MultiClassLinearClassifier** no arquivo \"ml/linearclassifier/multiclass.py\". Dado um conjunto de treinamento com $n$ classes/rótulos diferentes, para cada classe $c$, o classificador linear OvA encontra uma linha que separa as amostras dessa classe $c$ das amostras de todas as outras classes, portanto, o classificador deve manter $n$ retas (classificadores lineares de $2$ classes). Por exemplo, seja $W$ o conjunto de pesos que definem as retas do classificador linear OvA, $B$ o conjunto de bias dessas retas, $C$ o conjunto de classes/rotulos e seja $\\vec{w_{\\phantom{2}}} = W(c)$ e $b = B(c)$ os pesos que definem a reta que separa a classe $c \\in C$ das demais, então o classificador linear multiclasse define a classe da amostra $\\vec{x_i}$ da seguinte maneira\n",
    "\n",
    "$$ \\underset{c\\in C}{\\operatorname{argmax}} \\{\\vec{w_{\\phantom{2}}}^t . \\vec{x_i} + b : \\vec{w_{\\phantom{2}}} \\in W(c), b \\in B(c) \\}. $$\n",
    "\n",
    "A classe **MultiClassLinearClassifier**, recebe um **classificador modelo** (classifier_model). O classificador modelo, serve para indicar ao classsificador multi-classe quais os métodos e os parâmetros que devem ser utilizados para encontrar as retas que separam cada classe em $C$. Nesse exercício você terá que implementar no mínimo os métodos: **fit**, **predict** e construtor **__init__** da classe **MultiClassLinearClassifier**, você é encorajado a adicionar novos métodos que julgem úteis.  "
   ]
  },
  {
   "cell_type": "markdown",
   "metadata": {},
   "source": [
    "11) Utilizando o sua implementação da classe **MultiClassLinearClassifier**, construa um classificador linear multiclasse que separe as amostras  descritas no arquivo csv \"/dataset/dataset-3.data\". Esse arquivo é composto $300$ amostras separadas por linha, cada linha possui duas caracteristicas e a classe separadas por \";\" de uma amostra. Depois de construir e treinar seu classificador, plote a superficie de decisão encontrada."
   ]
  },
  {
   "cell_type": "code",
   "execution_count": null,
   "metadata": {
    "scrolled": true
   },
   "outputs": [],
   "source": [
    " "
   ]
  },
  {
   "cell_type": "markdown",
   "metadata": {},
   "source": [
    "13) Implemente uma função que recebe um classificador e um conjunto de teste contendo amostras e suas respectivas classes e computa a quantidade de amostras que seu classificador rotulou incorretamente. Utilize as implementações dos classificadores lineares feitas nos exercícios de 1 a 7 e calcule os erros para dados de treinamento no arquivo \"./dataset/dataset-4.data\" e testes em \"./dataset/test-dataset-4.data\", plote a reta encontrada para cada classificador com os dados de testes."
   ]
  },
  {
   "cell_type": "code",
   "execution_count": null,
   "metadata": {},
   "outputs": [],
   "source": [
    " "
   ]
  },
  {
   "cell_type": "markdown",
   "metadata": {},
   "source": [
    "13-ii) Implemente uma função que recebe um classificador e um conjunto de teste contendo amostras e suas respectivas classes e computa a quantidade de amostras que seu classificador rotulou incorretamente. Utilize as implementações dos classificadores lineares feitas nos exercícios de 1 a 7 e calcule os erros para dados de treinamento no arquivo \"./dataset/dataset-4-ii.data\" e testes na pasta \"./dataset/test-dataset-4-ii.data\", plote a reta encontrada para cada classificador com os dados de testes."
   ]
  },
  {
   "cell_type": "code",
   "execution_count": null,
   "metadata": {},
   "outputs": [],
   "source": [
    " "
   ]
  }
 ],
 "metadata": {
  "kernelspec": {
   "display_name": "Python 3",
   "language": "python",
   "name": "python3"
  },
  "language_info": {
   "codemirror_mode": {
    "name": "ipython",
    "version": 3
   },
   "file_extension": ".py",
   "mimetype": "text/x-python",
   "name": "python",
   "nbconvert_exporter": "python",
   "pygments_lexer": "ipython3",
   "version": "3.5.3"
  }
 },
 "nbformat": 4,
 "nbformat_minor": 2
}
